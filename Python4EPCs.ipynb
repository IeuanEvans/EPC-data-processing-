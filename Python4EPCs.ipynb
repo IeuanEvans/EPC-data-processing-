{
 "cells": [
  {
   "cell_type": "code",
   "execution_count": 1,
   "metadata": {},
   "outputs": [],
   "source": [
    "import pandas as pd"
   ]
  },
  {
   "cell_type": "code",
   "execution_count": 2,
   "metadata": {},
   "outputs": [],
   "source": [
    "pd.set_option('display.max_colwidth', 255)\n",
    "pd.set_option('display.max_rows', 100)\n",
    "pd.set_option('display.min_rows', 100)"
   ]
  },
  {
   "cell_type": "markdown",
   "metadata": {},
   "source": [
    "# Read data"
   ]
  },
  {
   "cell_type": "code",
   "execution_count": 24,
   "metadata": {},
   "outputs": [
    {
     "name": "stderr",
     "output_type": "stream",
     "text": [
      "C:\\Users\\User\\anaconda3\\lib\\site-packages\\IPython\\core\\interactiveshell.py:3146: DtypeWarning: Columns (15,37) have mixed types.Specify dtype option on import or set low_memory=False.\n",
      "  has_raised = await self.run_ast_nodes(code_ast.body, cell_name,\n"
     ]
    }
   ],
   "source": [
    "dataframe = pd.read_csv('Hull.csv')\n",
    "# dataframe2 = pd.read_csv('Lancaster.csv')"
   ]
  },
  {
   "cell_type": "markdown",
   "metadata": {},
   "source": [
    "## Combine datasets  (optional)\n",
    "The code in the cell below is used when you need to combine data from multiple districs "
   ]
  },
  {
   "cell_type": "code",
   "execution_count": 14,
   "metadata": {},
   "outputs": [],
   "source": [
    "# dataframe = pd.concat([dataframe, dataframe2])"
   ]
  },
  {
   "cell_type": "markdown",
   "metadata": {},
   "source": [
    "# Choose columns \n",
    "1) Enter the columns names that contain relevant data\n",
    "\n",
    "2) Update the dataframe removing irevelant data"
   ]
  },
  {
   "cell_type": "code",
   "execution_count": 5,
   "metadata": {},
   "outputs": [],
   "source": [
    "newcols = {'ADDRESS1', 'ADDRESS2', 'ADDRESS3', 'POSTTOWN', 'POSTCODE',\n",
    "       'CURRENT_ENERGY_RATING', 'PROPERTY_TYPE', 'BUILT_FORM',\n",
    "       'TOTAL_FLOOR_AREA', 'FLOOR_LEVEL', 'WALLS_DESCRIPTION', 'ROOF_DESCRIPTION',\n",
    "       'WALLS_ENERGY_EFF', 'MAINHEAT_DESCRIPTION', 'ADDRESS', 'TENURE',\n",
    "       'INSPECTION_DATE'}\n",
    "\n",
    "dataframe = Hull[newcols]"
   ]
  },
  {
   "cell_type": "markdown",
   "metadata": {},
   "source": [
    "## Fill missing values \n",
    "Missing values (na) need to be replaced with a string value ('unknown') before filtering "
   ]
  },
  {
   "cell_type": "code",
   "execution_count": 25,
   "metadata": {},
   "outputs": [],
   "source": [
    "wall_missing = dataframe['WALLS_DESCRIPTION'].fillna('unknown') \n",
    "dataframe['WALLS_DESCRIPTION'] = wall_missing\n",
    "\n",
    "roof_missing = dataframe['ROOF_DESCRIPTION'].fillna('unknown')   \n",
    "dataframe['ROOF_DESCRIPTION'] = roof_missing"
   ]
  },
  {
   "cell_type": "markdown",
   "metadata": {},
   "source": [
    "# Filter by..."
   ]
  },
  {
   "cell_type": "markdown",
   "metadata": {},
   "source": [
    "### 1) Inspection Date (optional)"
   ]
  },
  {
   "cell_type": "code",
   "execution_count": 26,
   "metadata": {},
   "outputs": [],
   "source": [
    "inspection_data_dt = pd.to_datetime(dataframe['INSPECTION_DATE'])\n",
    "dataframe['INSPECTION_DATE'] = inspection_data_dt\n",
    "filt = (dataframe['INSPECTION_DATE'] >= '2018')\n",
    "dataframe = dataframe[filt]"
   ]
  },
  {
   "cell_type": "markdown",
   "metadata": {},
   "source": [
    "### 2) Main heating description"
   ]
  },
  {
   "cell_type": "code",
   "execution_count": 8,
   "metadata": {},
   "outputs": [],
   "source": [
    "filter_ = dataframe['MAINHEAT_DESCRIPTION'].str.contains('wood|coal|smokeless|electric|Electric|LPG')\n",
    "V1 = dataframe[filter_]"
   ]
  },
  {
   "cell_type": "markdown",
   "metadata": {},
   "source": [
    "### 3) Roof "
   ]
  },
  {
   "cell_type": "code",
   "execution_count": 9,
   "metadata": {},
   "outputs": [],
   "source": [
    "filter_2 = V1['ROOF_DESCRIPTION'].str.contains('Roof room(s), no insulation (assumed)', regex=False)\n",
    "V25 = V1[filter_2]"
   ]
  },
  {
   "cell_type": "markdown",
   "metadata": {},
   "source": [
    "### 4) Wall"
   ]
  },
  {
   "cell_type": "code",
   "execution_count": 10,
   "metadata": {},
   "outputs": [],
   "source": [
    "filter_3 = V1['WALLS_DESCRIPTION'].str.contains('no insulation')\n",
    "V2 = V1[filter_3]\n",
    "\n",
    "filter_4 = V2['WALLS_DESCRIPTION'].str.contains('Cavity wall')\n",
    "V3 = V2[~filter_4]"
   ]
  },
  {
   "cell_type": "markdown",
   "metadata": {},
   "source": [
    "## Combine roof and wall sets"
   ]
  },
  {
   "cell_type": "code",
   "execution_count": 11,
   "metadata": {},
   "outputs": [],
   "source": [
    "V4 = pd.concat([V25, V3])"
   ]
  },
  {
   "cell_type": "markdown",
   "metadata": {},
   "source": [
    "# Sort by postocode"
   ]
  },
  {
   "cell_type": "code",
   "execution_count": 12,
   "metadata": {},
   "outputs": [],
   "source": [
    "V4.sort_values(by=['POSTCODE'], inplace=True)"
   ]
  },
  {
   "cell_type": "markdown",
   "metadata": {},
   "source": [
    "# Drop duplicate addresses "
   ]
  },
  {
   "cell_type": "code",
   "execution_count": 22,
   "metadata": {},
   "outputs": [],
   "source": [
    "V4.drop_duplicates(subset=['ADDRESS'], inplace=True)"
   ]
  },
  {
   "cell_type": "markdown",
   "metadata": {},
   "source": [
    "# Save dataset"
   ]
  },
  {
   "cell_type": "code",
   "execution_count": 13,
   "metadata": {},
   "outputs": [],
   "source": [
    "V4.to_csv(r'C:\\Users\\User\\Documents\\Eco_Gen\\Hull_complete.csv', index = False, header=True)"
   ]
  }
 ],
 "metadata": {
  "kernelspec": {
   "display_name": "Python 3",
   "language": "python",
   "name": "python3"
  },
  "language_info": {
   "codemirror_mode": {
    "name": "ipython",
    "version": 3
   },
   "file_extension": ".py",
   "mimetype": "text/x-python",
   "name": "python",
   "nbconvert_exporter": "python",
   "pygments_lexer": "ipython3",
   "version": "3.8.5"
  }
 },
 "nbformat": 4,
 "nbformat_minor": 4
}
